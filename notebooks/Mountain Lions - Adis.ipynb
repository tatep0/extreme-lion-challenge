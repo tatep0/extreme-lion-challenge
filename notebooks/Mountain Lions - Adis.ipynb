1. #gives the ability to read files from google drive

2. #sets image resolution, whether to augment the images, how many images per training iteration, type of model, 
#where to store the model weights and history, and where to obtain training images

3. #imports tensorflow and prints the version
#prioritizes using a TPU over a GPU which is prioritized over a CPU

4. #initializes the model using either a model from file or the XCeption model
#addes augmentation to the input images when with_augmentation = True

8. #splits the images into training and validation input

10. #plots training and validation accuracy and loss using matplotlib

11. #shows 9 images with the predicted label from the final, trained model and compares to the actual label

12. #takes all the image files in the classification directory
#uses the model to predict the label of the image
#creates a dictionary for each image with the image's path, image data, and the prediction
#plots the image with percentage values of prediction
